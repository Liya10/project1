{
 "cells": [
  {
   "cell_type": "code",
   "execution_count": null,
   "metadata": {},
   "outputs": [],
   "source": [
    "import pickle\n",
    "from itertools import chain, combinations\n",
    "\n",
    "\n",
    "def polite_printer(s, verbose=False):\n",
    "    if verbose:\n",
    "        print(s)\n",
    "\n",
    "\n",
    "def pickle_to_file(fname, obj, output=None):\n",
    "    if output is not None:\n",
    "        with open(output + fname, 'wb') as f:\n",
    "            pickle.dump(obj, f)\n",
    "\n",
    "\n",
    "def flatten_unique(l):\n",
    "    l_flat = []\n",
    "    for l_i in l:\n",
    "        for l_ij in l_i:\n",
    "            l_flat.append(l_ij)\n",
    "    return list(set(l_flat))\n",
    "\n",
    "\n",
    "def combinations_of_len(l, k):\n",
    "    return list(chain.from_iterable(combinations(l, r) for r in range(1, k + 1)))\n",
    "\n",
    "\n",
    "def fancy_titles(cols):\n",
    "    return [' '.join([c_w.title() for c_w in c.split('_')]) for c in cols]"
   ]
  }
 ],
 "metadata": {
  "kernelspec": {
   "display_name": "Python 3",
   "language": "python",
   "name": "python3"
  },
  "language_info": {
   "codemirror_mode": {
    "name": "ipython",
    "version": 3
   },
   "file_extension": ".py",
   "mimetype": "text/x-python",
   "name": "python",
   "nbconvert_exporter": "python",
   "pygments_lexer": "ipython3",
   "version": "3.6.8"
  }
 },
 "nbformat": 4,
 "nbformat_minor": 2
}
